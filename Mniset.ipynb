{
  "nbformat": 4,
  "nbformat_minor": 0,
  "metadata": {
    "colab": {
      "name": "Mniset.ipynb",
      "private_outputs": true,
      "provenance": []
    },
    "kernelspec": {
      "name": "python3",
      "display_name": "Python 3"
    },
    "language_info": {
      "name": "python"
    },
    "accelerator": "GPU"
  },
  "cells": [
    {
      "cell_type": "code",
      "metadata": {
        "id": "SIQwtDDqpU-v"
      },
      "source": [
        "import numpy as np\n",
        "import keras\n",
        "from keras.datasets import mnist\n",
        "from keras.models import Model\n",
        "from keras.layers import Dense,Input\n",
        "from keras.layers import Conv2D,MaxPooling2D,Dropout,Flatten\n",
        "from keras import backend as k"
      ],
      "execution_count": null,
      "outputs": []
    },
    {
      "cell_type": "code",
      "metadata": {
        "id": "tpuprWZYqoON"
      },
      "source": [
        "(x_train,y_train),(x_test,y_test) = mnist.load_data()"
      ],
      "execution_count": null,
      "outputs": []
    },
    {
      "cell_type": "code",
      "metadata": {
        "id": "7ub39iQ7qyJY"
      },
      "source": [
        "#Display the dataset\n",
        "from matplotlib import pyplot as plt\n",
        "print('Train: X=%s,y=%s' % (x_train.shape,y_train.shape))\n",
        "print('Test: X=%s,y=%s' % (x_test.shape,y_test.shape))\n",
        "#plot first few images\n",
        "for i in range(89):\n",
        "  \n",
        "  #plot raw pixel data\n",
        "  plt.imshow(x_train[i],cmap=plt.get_cmap('gray'))\n",
        "  #show the figure \n",
        "  plt.show()\n",
        "\n"
      ],
      "execution_count": null,
      "outputs": []
    },
    {
      "cell_type": "code",
      "metadata": {
        "id": "6oYQaMvts_XJ"
      },
      "source": [
        "img_rows ,img_cols=28,28\n",
        "\n",
        "if k.image_data_format() == 'channels_first':\n",
        "  #reshape dataset to have a single channel\n",
        "  x_train = x_train.reshape(x_train.shape[0],1,img_rows,img_cols)\n",
        "  x_test = x_test.reshape(x_test.shape[0],1,img_rows,img_cols)\n",
        "  inpx = (1,img_rows,img_cols)\n",
        "else:\n",
        "  #reshape dataset to have a single channel\n",
        "  x_train = x_train.reshape(x_train.shape[0],img_rows,img_cols,1)\n",
        "  x_test = x_test.reshape(x_test.shape[0],img_rows,img_cols,1)\n",
        "  inpx = (img_rows,img_cols,1)\n"
      ],
      "execution_count": null,
      "outputs": []
    },
    {
      "cell_type": "code",
      "metadata": {
        "id": "zCxmj_nV1f1j"
      },
      "source": [
        "inpx"
      ],
      "execution_count": null,
      "outputs": []
    },
    {
      "cell_type": "code",
      "metadata": {
        "id": "zMtf1Dfnu3RV"
      },
      "source": [
        "#conver from integers to float\n",
        "x_train = x_train.astype('float32')\n",
        "x_test = x_test.astype('float32')\n",
        "\n",
        "#Nor. 0 to 1\n",
        "x_train /= 255\n",
        "x_test /= 255"
      ],
      "execution_count": null,
      "outputs": []
    },
    {
      "cell_type": "code",
      "metadata": {
        "id": "0VvEMjbfvaQq"
      },
      "source": [
        "from keras.utils import np_utils\n",
        "# convert class vectors to binary class matrices OR one hot encode target values\n",
        "y_train = np_utils.to_categorical(y_train)\n",
        "y_test = np_utils.to_categorical(y_test)\n"
      ],
      "execution_count": null,
      "outputs": []
    },
    {
      "cell_type": "code",
      "metadata": {
        "id": "ag-m8coh3dS4"
      },
      "source": [
        "type(inpx)\n",
        "inpx"
      ],
      "execution_count": null,
      "outputs": []
    },
    {
      "cell_type": "code",
      "metadata": {
        "id": "gIK_nDVWwhp9"
      },
      "source": [
        "\n",
        "inpx = Input(shape=inpx)\n",
        "layer1 = Conv2D(32,kernel_size=(3, 3),activation='relu')(inpx)\n",
        "layer2 = Conv2D(64,(3,3),activation='relu')(layer1)\n",
        "layer3 = MaxPooling2D(pool_size=(3,3))(layer2)\n",
        "#To prevent overfitting\n",
        "layer4 = Dropout(0.5)(layer3)\n",
        "\n",
        "layer5 = Flatten()(layer4)\n",
        "layer6 = Dense(250,activation='sigmoid')(layer5)\n",
        "layer7 = Dense(10,activation='softmax')(layer6)"
      ],
      "execution_count": null,
      "outputs": []
    },
    {
      "cell_type": "code",
      "metadata": {
        "id": "UC0IrDBYZlae"
      },
      "source": [
        "x_train\n"
      ],
      "execution_count": null,
      "outputs": []
    },
    {
      "cell_type": "code",
      "metadata": {
        "id": "AdQL590AWiR8"
      },
      "source": [
        "import tensorflow as tf\n",
        "\n",
        "model = Model([inpx],layer7) \n",
        "model.compile(optimizer=tf.keras.optimizers.Adam(),\n",
        "             loss=keras.losses.categorical_crossentropy,\n",
        "             metrics=['accuracy'])\n",
        "model.fit(x_train,\n",
        "          y_train,batch_size=32,\n",
        "          epochs=12)\n"
      ],
      "execution_count": null,
      "outputs": []
    },
    {
      "cell_type": "code",
      "metadata": {
        "id": "mBfRJH54a1VW"
      },
      "source": [
        "score = model.evaluate(x_test,y_test,verbose=0)\n",
        "print('loss=',score[0])\n",
        "print('accuracy=',score[1])"
      ],
      "execution_count": null,
      "outputs": []
    },
    {
      "cell_type": "code",
      "metadata": {
        "id": "XMbA4tX0cJr9"
      },
      "source": [
        "x_test"
      ],
      "execution_count": null,
      "outputs": []
    },
    {
      "cell_type": "code",
      "metadata": {
        "id": "CLP8bz0NbG_n"
      },
      "source": [
        "#single value prediction in number\n",
        "predictions = model.predict(x_test)\n",
        "print(np.argmax(np.round(predictions[8])))"
      ],
      "execution_count": null,
      "outputs": []
    },
    {
      "cell_type": "code",
      "metadata": {
        "id": "DeHUiW2Ab6mB"
      },
      "source": [
        "#single value prediction in graph(plot)\n",
        "plt.imshow(x_test[8].reshape(28,28),cmap=plt.cm.binary)\n",
        "plt.show()"
      ],
      "execution_count": null,
      "outputs": []
    }
  ]
}